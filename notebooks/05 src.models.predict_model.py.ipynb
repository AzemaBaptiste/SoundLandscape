{
 "cells": [
  {
   "cell_type": "code",
   "execution_count": 2,
   "metadata": {},
   "outputs": [],
   "source": [
    "import sys\n",
    "\n",
    "sys.path.insert(0, \"C:/Users/julie/PycharmProjects/SoundLandscape/\")"
   ]
  },
  {
   "cell_type": "code",
   "execution_count": 3,
   "metadata": {},
   "outputs": [
    {
     "name": "stdout",
     "output_type": "stream",
     "text": [
      "forest\n",
      "neutral\n"
     ]
    }
   ],
   "source": [
    "# -*- coding: utf-8 -*-\n",
    "import cv2\n",
    "from PIL import Image\n",
    "import numpy as np\n",
    "\n",
    "import keras\n",
    "\n",
    "from src import settings\n",
    "\n",
    "\n",
    "class PredictMood(object):\n",
    "    \"\"\"Module to predict the mood based on a picture.\"\"\"\n",
    "\n",
    "    def __init__(self):\n",
    "        \"\"\"Initator.\"\"\"\n",
    "        self.model = keras.models.load_model(settings.MOOD_MODEL_PATH)\n",
    "        self.mood_classes = {\n",
    "            0: 'angry', 1: 'disgust', 2: 'fear', \n",
    "            3: 'happy', 4: 'neutral', 5: 'sad', 6: 'surprised'\n",
    "        }\n",
    "\n",
    "    @staticmethod\n",
    "    def process_img(img):\n",
    "        \"\"\"Transform image to go through the deep architecture.\n",
    "\n",
    "        :param img: (PIL.image) image\n",
    "        :return: (np.array) image processed\n",
    "        \"\"\"\n",
    "        input_image = np.asarray(img, dtype=np.uint8)\n",
    "        resized = cv2.resize(input_image, (71, 71))\n",
    "        resized_gray = cv2.cvtColor(resized, cv2.COLOR_BGR2GRAY)\n",
    "        resized_gray = resized_gray[np.newaxis, :, :, np.newaxis]\n",
    "        resized_gray_scale = resized_gray / 255.0\n",
    "\n",
    "        return resized_gray_scale\n",
    "\n",
    "    def predict(self, img):\n",
    "        \"\"\"Predict the mood based on a picture.\n",
    "\n",
    "        :param img: (PIL.image) image\n",
    "        :return: (str) mood\n",
    "        \"\"\"\n",
    "        processed_img = self.process_img(img)\n",
    "        mood_index = np.argmax(self.model.predict(processed_img))\n",
    "\n",
    "        return self.mood_classes[mood_index]\n",
    "\n",
    "\n",
    "class PredictLandscape(object):\n",
    "    \"\"\"Predict landscape based on a picture.\"\"\"\n",
    "\n",
    "    def __init__(self):\n",
    "        \"\"\"Initiator.\"\"\"\n",
    "        self.model = keras.models.load_model(settings.LAND_MODEL_PATH)\n",
    "        self.landscape_classes = {\n",
    "            0: \"city\", 1: \"field\", 2: \"forest\", 3: \"lake\",\n",
    "            4: \"mountain\", 5: \"ocean\", 6: \"road\"\n",
    "        }\n",
    "\n",
    "    @staticmethod\n",
    "    def process_img(img):\n",
    "        \"\"\"Transform image to go through the deep architecture.\n",
    "\n",
    "        :param img: (PIL.image) image\n",
    "        :return: (np.array) image processed\n",
    "        \"\"\"\n",
    "        input_image = np.asarray(img, dtype=np.uint8)\n",
    "        resized = cv2.resize(input_image, (224, 224))\n",
    "        resized_rgb = resized[np.newaxis, :, :]\n",
    "        resized_rgb_scale = resized_rgb / 255.0\n",
    "\n",
    "        return resized_rgb_scale\n",
    "\n",
    "    def predict(self, img):\n",
    "        \"\"\"Predict the landscape based on a picture.\n",
    "\n",
    "        :param img: (PIL.image) image\n",
    "        :return: (str) landscape\n",
    "        \"\"\"\n",
    "        processed_img = self.process_img(img)\n",
    "        landscape_index = np.argmax(self.model.predict(processed_img))\n",
    "\n",
    "        return self.landscape_classes[landscape_index]\n",
    "\n",
    "\n",
    "if __name__ == '__main__':\n",
    "    model_landscape = PredictLandscape()\n",
    "    img = Image.open(\"C:/Users/julie/PycharmProjects/SoundLandscape/data/raw/landscape/forest.jpg\")\n",
    "    landscape = model_landscape.predict(img)\n",
    "    print(landscape)\n",
    "    \n",
    "    model_mood = PredictMood()\n",
    "    img = Image.open(\"C:/Users/julie/PycharmProjects/SoundLandscape/data/raw/mood/happy.jpg\")\n",
    "    mood = model_mood.predict(img)\n",
    "    print(mood)"
   ]
  },
  {
   "cell_type": "code",
   "execution_count": 4,
   "metadata": {},
   "outputs": [],
   "source": [
    "input_image = np.asarray(img, dtype=np.uint8)"
   ]
  },
  {
   "cell_type": "code",
   "execution_count": 10,
   "metadata": {},
   "outputs": [
    {
     "data": {
      "text/plain": [
       "True"
      ]
     },
     "execution_count": 10,
     "metadata": {},
     "output_type": "execute_result"
    }
   ],
   "source": [
    "isinstance(input_image, np.ndarray)"
   ]
  },
  {
   "cell_type": "code",
   "execution_count": 8,
   "metadata": {},
   "outputs": [
    {
     "data": {
      "text/plain": [
       "numpy.ndarray"
      ]
     },
     "execution_count": 8,
     "metadata": {},
     "output_type": "execute_result"
    }
   ],
   "source": [
    "type(input_image)"
   ]
  },
  {
   "cell_type": "code",
   "execution_count": null,
   "metadata": {},
   "outputs": [],
   "source": [
    "n^."
   ]
  }
 ],
 "metadata": {
  "kernelspec": {
   "display_name": "Python 3",
   "language": "python",
   "name": "python3"
  },
  "language_info": {
   "codemirror_mode": {
    "name": "ipython",
    "version": 3
   },
   "file_extension": ".py",
   "mimetype": "text/x-python",
   "name": "python",
   "nbconvert_exporter": "python",
   "pygments_lexer": "ipython3",
   "version": "3.6.7"
  }
 },
 "nbformat": 4,
 "nbformat_minor": 2
}
