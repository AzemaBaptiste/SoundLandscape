{
 "cells": [
  {
   "cell_type": "code",
   "execution_count": 19,
   "metadata": {},
   "outputs": [],
   "source": [
    "import sys\n",
    "\n",
    "sys.path.insert(0, \"C:/Users/julie/PycharmProjects/SoundLandscape/\")"
   ]
  },
  {
   "cell_type": "code",
   "execution_count": 20,
   "metadata": {},
   "outputs": [],
   "source": [
    "import requests"
   ]
  },
  {
   "cell_type": "code",
   "execution_count": 23,
   "metadata": {},
   "outputs": [
    {
     "data": {
      "text/plain": [
       "{'result': {'latitude': 0.0, 'longitude': 0.0, 'timestamp': '13:11:18.037000'},\n",
       " 'success': True}"
      ]
     },
     "execution_count": 23,
     "metadata": {},
     "output_type": "execute_result"
    }
   ],
   "source": [
    "response = requests.post('http://127.0.0.1:5000/api/gps/get_latlon')\n",
    "response.json()"
   ]
  },
  {
   "cell_type": "markdown",
   "metadata": {},
   "source": [
    "# Weather"
   ]
  },
  {
   "cell_type": "code",
   "execution_count": 3,
   "metadata": {},
   "outputs": [
    {
     "data": {
      "text/plain": [
       "{'result': 'Cloudy', 'success': True}"
      ]
     },
     "execution_count": 3,
     "metadata": {},
     "output_type": "execute_result"
    }
   ],
   "source": [
    "response = requests.post('http://127.0.0.1:5000/api/features/get_weather_from_latlon', json={\"latitude\":\"49.9584\", \"longitude\": \"2.29465\"})\n",
    "response.json()"
   ]
  },
  {
   "cell_type": "markdown",
   "metadata": {},
   "source": [
    "# Ratio"
   ]
  },
  {
   "cell_type": "code",
   "execution_count": 4,
   "metadata": {},
   "outputs": [
    {
     "data": {
      "text/plain": [
       "{'result': {'forest_mask_ratio': 0.0, 'water_mask_ratio': 0.0},\n",
       " 'success': True}"
      ]
     },
     "execution_count": 4,
     "metadata": {},
     "output_type": "execute_result"
    }
   ],
   "source": [
    "response = requests.post('http://127.0.0.1:5000/api/features/get_ratio_mask_from_latlon', json={\"latitude\":\"49.9584\", \"longitude\": \"2.29465\"})\n",
    "response.json()"
   ]
  },
  {
   "cell_type": "markdown",
   "metadata": {},
   "source": [
    "# Song"
   ]
  },
  {
   "cell_type": "code",
   "execution_count": 5,
   "metadata": {},
   "outputs": [
    {
     "data": {
      "text/plain": [
       "{'result': None, 'success': True}"
      ]
     },
     "execution_count": 5,
     "metadata": {},
     "output_type": "execute_result"
    }
   ],
   "source": [
    "response = requests.post('http://127.0.0.1:5000/api/features/get_song_from_latlon', json={\"latitude\":\"49.9584\", \"longitude\": \"2.29465\"})\n",
    "response.json()"
   ]
  },
  {
   "cell_type": "markdown",
   "metadata": {},
   "source": [
    "# Sunset"
   ]
  },
  {
   "cell_type": "code",
   "execution_count": 6,
   "metadata": {},
   "outputs": [
    {
     "data": {
      "text/plain": [
       "{'result': {'sunrise': '2019-03-06T06:22:52+00:00',\n",
       "  'sunset': '2019-03-06T17:41:10+00:00',\n",
       "  'time': '2019-03-06T22:39:50.965852'},\n",
       " 'success': True}"
      ]
     },
     "execution_count": 6,
     "metadata": {},
     "output_type": "execute_result"
    }
   ],
   "source": [
    "response = requests.post('http://127.0.0.1:5000/api/features/get_sun_position_from_latlon', json={\"latitude\":\"49.9584\", \"longitude\": \"2.29465\"})\n",
    "response.json()"
   ]
  },
  {
   "cell_type": "markdown",
   "metadata": {},
   "source": [
    "# Poi"
   ]
  },
  {
   "cell_type": "code",
   "execution_count": 17,
   "metadata": {},
   "outputs": [],
   "source": [
    "# Needed poi\n",
    "response = requests.post('http://127.0.0.1:5000/api/features/get_interesting_poi_information_from_latlon', json={\"latitude\":\"48.840924\", \"longitude\": \"2.251493\"})\n",
    "r = response.json()"
   ]
  },
  {
   "cell_type": "code",
   "execution_count": 18,
   "metadata": {},
   "outputs": [
    {
     "data": {
      "text/plain": [
       "{'result': {'Jardin Guilbaud': [['park', 'point_of_interest', 'establishment'],\n",
       "   'Get Blake!'],\n",
       "  'Le Parc des Princes': [['stadium', 'point_of_interest', 'establishment'],\n",
       "   'The Parc des Princes (French pronunciation: \\u200b[paʁk de pʁɛ̃s], literally \"Princes’ Park\" in English) is an all-seater football stadium in Paris, France.'],\n",
       "  'Psg': [['gym', 'health', 'point_of_interest', 'establishment'],\n",
       "   'Paris Saint-Germain Football Club (French pronunciation: \\u200b[paʁi sɛ̃ ʒɛʁmɛ̃]), commonly referred to as Paris Saint-Germain, Paris SG, or simply PSG, is a French professional football club based in Paris.']},\n",
       " 'success': True}"
      ]
     },
     "execution_count": 18,
     "metadata": {},
     "output_type": "execute_result"
    }
   ],
   "source": [
    "r"
   ]
  },
  {
   "cell_type": "code",
   "execution_count": 8,
   "metadata": {},
   "outputs": [
    {
     "data": {
      "text/plain": [
       "{'result': {'Bertangles': ['locality', 'political']}, 'success': True}"
      ]
     },
     "execution_count": 8,
     "metadata": {},
     "output_type": "execute_result"
    }
   ],
   "source": [
    "# All poi\n",
    "response = requests.post('http://127.0.0.1:5000/api/features/get_all_poi_from_latlon', json={\"latitude\":\"49.9584\", \"longitude\": \"2.29465\"})\n",
    "response.json()"
   ]
  },
  {
   "cell_type": "markdown",
   "metadata": {},
   "source": [
    "# Landscape"
   ]
  },
  {
   "cell_type": "code",
   "execution_count": 9,
   "metadata": {},
   "outputs": [],
   "source": [
    "import cv2\n",
    "\n",
    "content_type = 'image/jpeg'\n",
    "headers = {'content-type': content_type}\n",
    "img = cv2.imread(\"../data/raw/landscape/forest.jpg\")\n",
    "img = cv2.cvtColor(img, cv2.COLOR_BGR2RGB)\n",
    "_, img_encoded = cv2.imencode('.jpg', img)"
   ]
  },
  {
   "cell_type": "code",
   "execution_count": 10,
   "metadata": {
    "scrolled": true
   },
   "outputs": [
    {
     "data": {
      "text/plain": [
       "{'result': 'forest', 'success': True}"
      ]
     },
     "execution_count": 10,
     "metadata": {},
     "output_type": "execute_result"
    }
   ],
   "source": [
    "response = requests.post('http://127.0.0.1:5000/api/landscape/get_landscape_from_image', data=img_encoded.tostring(), headers=headers)\n",
    "response.json()"
   ]
  },
  {
   "cell_type": "markdown",
   "metadata": {},
   "source": [
    "# Mood"
   ]
  },
  {
   "cell_type": "code",
   "execution_count": 11,
   "metadata": {},
   "outputs": [],
   "source": [
    "img = cv2.imread(\"../data/raw/mood/happy.jpg\")"
   ]
  },
  {
   "cell_type": "code",
   "execution_count": 12,
   "metadata": {},
   "outputs": [],
   "source": [
    "img = cv2.cvtColor(img, cv2.COLOR_BGR2RGB)"
   ]
  },
  {
   "cell_type": "code",
   "execution_count": 14,
   "metadata": {},
   "outputs": [],
   "source": [
    "import cv2\n",
    "\n",
    "content_type = 'image/jpeg'\n",
    "headers = {'content-type': content_type}\n",
    "img = cv2.imread(\"../data/raw/mood/happy.jpg\")\n",
    "img = cv2.cvtColor(img, cv2.COLOR_BGR2RGB)\n",
    "_, img_encoded = cv2.imencode('.jpg', img)"
   ]
  },
  {
   "cell_type": "code",
   "execution_count": 15,
   "metadata": {},
   "outputs": [
    {
     "data": {
      "text/plain": [
       "{'result': 'happy', 'success': True}"
      ]
     },
     "execution_count": 15,
     "metadata": {},
     "output_type": "execute_result"
    }
   ],
   "source": [
    "response = requests.post('http://127.0.0.1:5000/api/mood/get_mood_from_image', data=img_encoded.tostring(), headers=headers)\n",
    "response.json()"
   ]
  },
  {
   "cell_type": "markdown",
   "metadata": {},
   "source": [
    "# Face"
   ]
  },
  {
   "cell_type": "code",
   "execution_count": 16,
   "metadata": {},
   "outputs": [],
   "source": [
    "import cv2\n",
    "\n",
    "content_type = 'image/jpeg'\n",
    "headers = {'content-type': content_type}\n",
    "img = cv2.imread(\"../data/raw/faces/adam.png\")\n",
    "img = cv2.cvtColor(img, cv2.COLOR_BGR2RGB)\n",
    "_, img_encoded = cv2.imencode('.jpg', img)"
   ]
  },
  {
   "cell_type": "code",
   "execution_count": 17,
   "metadata": {},
   "outputs": [
    {
     "data": {
      "text/plain": [
       "{'result': [['adam'], [[290, 418, 675, 33]]], 'success': True}"
      ]
     },
     "execution_count": 17,
     "metadata": {},
     "output_type": "execute_result"
    }
   ],
   "source": [
    "response = requests.post('http://127.0.0.1:5000/api/face/get_face_from_image', data=img_encoded.tostring(), headers=headers)\n",
    "response.json()"
   ]
  },
  {
   "cell_type": "markdown",
   "metadata": {},
   "source": [
    "# Get frame"
   ]
  },
  {
   "cell_type": "code",
   "execution_count": 23,
   "metadata": {},
   "outputs": [],
   "source": [
    "img = requests.post('http://127.0.0.1:5000/api/frame/get_camera_face')"
   ]
  },
  {
   "cell_type": "code",
   "execution_count": 21,
   "metadata": {},
   "outputs": [
    {
     "data": {
      "text/plain": [
       "{'result': 'angry', 'success': True}"
      ]
     },
     "execution_count": 21,
     "metadata": {},
     "output_type": "execute_result"
    }
   ],
   "source": [
    "response = requests.post('http://127.0.0.1:5000/api/mood/get_mood_from_image', data=img.content, headers=headers)\n",
    "response.json()"
   ]
  },
  {
   "cell_type": "code",
   "execution_count": 25,
   "metadata": {},
   "outputs": [
    {
     "data": {
      "text/plain": [
       "{'result': [[], []], 'success': True}"
      ]
     },
     "execution_count": 25,
     "metadata": {},
     "output_type": "execute_result"
    }
   ],
   "source": [
    "response = requests.post('http://127.0.0.1:5000/api/face/get_face_from_image', data=img.content, headers=headers)\n",
    "response.json()"
   ]
  },
  {
   "cell_type": "code",
   "execution_count": 26,
   "metadata": {},
   "outputs": [
    {
     "data": {
      "text/plain": [
       "{'result': 'mountain', 'success': True}"
      ]
     },
     "execution_count": 26,
     "metadata": {},
     "output_type": "execute_result"
    }
   ],
   "source": [
    "response = requests.post('http://127.0.0.1:5000/api/landscape/get_landscape_from_image', data=img.content, headers=headers)\n",
    "response.json()"
   ]
  },
  {
   "cell_type": "code",
   "execution_count": null,
   "metadata": {},
   "outputs": [],
   "source": []
  }
 ],
 "metadata": {
  "kernelspec": {
   "display_name": "Python 3",
   "language": "python",
   "name": "python3"
  },
  "language_info": {
   "codemirror_mode": {
    "name": "ipython",
    "version": 3
   },
   "file_extension": ".py",
   "mimetype": "text/x-python",
   "name": "python",
   "nbconvert_exporter": "python",
   "pygments_lexer": "ipython3",
   "version": "3.6.7"
  }
 },
 "nbformat": 4,
 "nbformat_minor": 2
}
